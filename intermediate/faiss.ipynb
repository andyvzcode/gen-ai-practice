{
 "cells": [
  {
   "cell_type": "code",
   "execution_count": 1,
   "metadata": {},
   "outputs": [
    {
     "name": "stdout",
     "output_type": "stream",
     "text": [
      "Collecting faiss-cpu\n",
      "  Downloading faiss_cpu-1.11.0-cp311-cp311-macosx_14_0_arm64.whl.metadata (4.8 kB)\n",
      "Requirement already satisfied: numpy in /opt/anaconda3/envs/agents/lib/python3.11/site-packages (2.0.1)\n",
      "Requirement already satisfied: sentence-transformers in /opt/anaconda3/envs/agents/lib/python3.11/site-packages (4.1.0)\n",
      "Requirement already satisfied: packaging in /opt/anaconda3/envs/agents/lib/python3.11/site-packages (from faiss-cpu) (24.2)\n",
      "Requirement already satisfied: transformers<5.0.0,>=4.41.0 in /opt/anaconda3/envs/agents/lib/python3.11/site-packages (from sentence-transformers) (4.51.3)\n",
      "Requirement already satisfied: tqdm in /opt/anaconda3/envs/agents/lib/python3.11/site-packages (from sentence-transformers) (4.67.1)\n",
      "Requirement already satisfied: torch>=1.11.0 in /opt/anaconda3/envs/agents/lib/python3.11/site-packages (from sentence-transformers) (2.7.0)\n",
      "Requirement already satisfied: scikit-learn in /opt/anaconda3/envs/agents/lib/python3.11/site-packages (from sentence-transformers) (1.6.1)\n",
      "Requirement already satisfied: scipy in /opt/anaconda3/envs/agents/lib/python3.11/site-packages (from sentence-transformers) (1.15.3)\n",
      "Requirement already satisfied: huggingface-hub>=0.20.0 in /opt/anaconda3/envs/agents/lib/python3.11/site-packages (from sentence-transformers) (0.31.2)\n",
      "Requirement already satisfied: Pillow in /opt/anaconda3/envs/agents/lib/python3.11/site-packages (from sentence-transformers) (11.2.1)\n",
      "Requirement already satisfied: typing_extensions>=4.5.0 in /opt/anaconda3/envs/agents/lib/python3.11/site-packages (from sentence-transformers) (4.13.2)\n",
      "Requirement already satisfied: filelock in /opt/anaconda3/envs/agents/lib/python3.11/site-packages (from huggingface-hub>=0.20.0->sentence-transformers) (3.18.0)\n",
      "Requirement already satisfied: fsspec>=2023.5.0 in /opt/anaconda3/envs/agents/lib/python3.11/site-packages (from huggingface-hub>=0.20.0->sentence-transformers) (2025.3.2)\n",
      "Requirement already satisfied: pyyaml>=5.1 in /opt/anaconda3/envs/agents/lib/python3.11/site-packages (from huggingface-hub>=0.20.0->sentence-transformers) (6.0.2)\n",
      "Requirement already satisfied: requests in /opt/anaconda3/envs/agents/lib/python3.11/site-packages (from huggingface-hub>=0.20.0->sentence-transformers) (2.32.3)\n",
      "Requirement already satisfied: sympy>=1.13.3 in /opt/anaconda3/envs/agents/lib/python3.11/site-packages (from torch>=1.11.0->sentence-transformers) (1.14.0)\n",
      "Requirement already satisfied: networkx in /opt/anaconda3/envs/agents/lib/python3.11/site-packages (from torch>=1.11.0->sentence-transformers) (3.4.2)\n",
      "Requirement already satisfied: jinja2 in /opt/anaconda3/envs/agents/lib/python3.11/site-packages (from torch>=1.11.0->sentence-transformers) (3.1.6)\n",
      "Requirement already satisfied: regex!=2019.12.17 in /opt/anaconda3/envs/agents/lib/python3.11/site-packages (from transformers<5.0.0,>=4.41.0->sentence-transformers) (2024.11.6)\n",
      "Requirement already satisfied: tokenizers<0.22,>=0.21 in /opt/anaconda3/envs/agents/lib/python3.11/site-packages (from transformers<5.0.0,>=4.41.0->sentence-transformers) (0.21.1)\n",
      "Requirement already satisfied: safetensors>=0.4.3 in /opt/anaconda3/envs/agents/lib/python3.11/site-packages (from transformers<5.0.0,>=4.41.0->sentence-transformers) (0.5.3)\n",
      "Requirement already satisfied: joblib>=1.2.0 in /opt/anaconda3/envs/agents/lib/python3.11/site-packages (from scikit-learn->sentence-transformers) (1.5.0)\n",
      "Requirement already satisfied: threadpoolctl>=3.1.0 in /opt/anaconda3/envs/agents/lib/python3.11/site-packages (from scikit-learn->sentence-transformers) (3.6.0)\n",
      "Requirement already satisfied: mpmath<1.4,>=1.1.0 in /opt/anaconda3/envs/agents/lib/python3.11/site-packages (from sympy>=1.13.3->torch>=1.11.0->sentence-transformers) (1.3.0)\n",
      "Requirement already satisfied: MarkupSafe>=2.0 in /opt/anaconda3/envs/agents/lib/python3.11/site-packages (from jinja2->torch>=1.11.0->sentence-transformers) (3.0.2)\n",
      "Requirement already satisfied: charset-normalizer<4,>=2 in /opt/anaconda3/envs/agents/lib/python3.11/site-packages (from requests->huggingface-hub>=0.20.0->sentence-transformers) (3.4.1)\n",
      "Requirement already satisfied: idna<4,>=2.5 in /opt/anaconda3/envs/agents/lib/python3.11/site-packages (from requests->huggingface-hub>=0.20.0->sentence-transformers) (3.10)\n",
      "Requirement already satisfied: urllib3<3,>=1.21.1 in /opt/anaconda3/envs/agents/lib/python3.11/site-packages (from requests->huggingface-hub>=0.20.0->sentence-transformers) (2.4.0)\n",
      "Requirement already satisfied: certifi>=2017.4.17 in /opt/anaconda3/envs/agents/lib/python3.11/site-packages (from requests->huggingface-hub>=0.20.0->sentence-transformers) (2025.1.31)\n",
      "Downloading faiss_cpu-1.11.0-cp311-cp311-macosx_14_0_arm64.whl (3.3 MB)\n",
      "\u001b[2K   \u001b[90m━━━━━━━━━━━━━━━━━━━━━━━━━━━━━━━━━━━━━━━━\u001b[0m \u001b[32m3.3/3.3 MB\u001b[0m \u001b[31m2.9 MB/s\u001b[0m eta \u001b[36m0:00:00\u001b[0ma \u001b[36m0:00:01\u001b[0m\n",
      "\u001b[?25hInstalling collected packages: faiss-cpu\n",
      "Successfully installed faiss-cpu-1.11.0\n"
     ]
    }
   ],
   "source": [
    "!pip install faiss-cpu numpy sentence-transformers"
   ]
  },
  {
   "cell_type": "code",
   "execution_count": 2,
   "metadata": {},
   "outputs": [
    {
     "name": "stderr",
     "output_type": "stream",
     "text": [
      "/opt/anaconda3/envs/agents/lib/python3.11/site-packages/tqdm/auto.py:21: TqdmWarning: IProgress not found. Please update jupyter and ipywidgets. See https://ipywidgets.readthedocs.io/en/stable/user_install.html\n",
      "  from .autonotebook import tqdm as notebook_tqdm\n"
     ]
    },
    {
     "name": "stdout",
     "output_type": "stream",
     "text": [
      "Versión de FAISS: 1.11.0\n"
     ]
    }
   ],
   "source": [
    "import faiss\n",
    "import numpy as np\n",
    "from sentence_transformers import SentenceTransformer\n",
    "\n",
    "print(f\"Versión de FAISS: {faiss.__version__}\")"
   ]
  },
  {
   "cell_type": "code",
   "execution_count": 3,
   "metadata": {},
   "outputs": [
    {
     "name": "stdout",
     "output_type": "stream",
     "text": [
      "Cargando modelo de embedding...\n",
      "Modelo cargado. Dimensión de los embeddings: 384\n"
     ]
    }
   ],
   "source": [
    "print(\"Cargando modelo de embedding...\")\n",
    "embed_model = SentenceTransformer(\"all-MiniLM-L6-v2\") # Este modelo genera embeddings de 384 dimensiones\n",
    "dimension = 384 # Dimensión de los embeddings generados por all-MiniLM-L6-v2\n",
    "print(f\"Modelo cargado. Dimensión de los embeddings: {dimension}\")"
   ]
  },
  {
   "cell_type": "code",
   "execution_count": 4,
   "metadata": {},
   "outputs": [],
   "source": [
    "sentences = [\n",
    "    \"El gato se sentó en la alfombra.\",\n",
    "    \"El perro jugaba en el jardín.\",\n",
    "    \"La inteligencia artificial está transformando el mundo.\",\n",
    "    \"FAISS es una biblioteca para búsqueda de similitud eficiente.\",\n",
    "    \"Los modelos de lenguaje grandes son muy potentes.\",\n",
    "    \"Amo programar en Python.\",\n",
    "    \"El sol brilla intensamente hoy.\",\n",
    "    \"La búsqueda de vectores es importante para RAG.\"\n",
    "]"
   ]
  },
  {
   "cell_type": "code",
   "execution_count": 5,
   "metadata": {},
   "outputs": [
    {
     "name": "stdout",
     "output_type": "stream",
     "text": [
      "Generando embeddings para las frases de ejemplo...\n",
      "Se generaron 8 embeddings, cada uno de dimensión 384.\n"
     ]
    }
   ],
   "source": [
    "print(\"Generando embeddings para las frases de ejemplo...\")\n",
    "embeddings = embed_model.encode(sentences)\n",
    "# Asegurarse de que los embeddings sean de tipo float32, que es lo que FAISS espera comúnmente\n",
    "embeddings = np.array(embeddings).astype(\"float32\")\n",
    "num_vectors = embeddings.shape[0]\n",
    "print(f\"Se generaron {num_vectors} embeddings, cada uno de dimensión {embeddings.shape[1]}.\")\n",
    "# print(embeddings)"
   ]
  },
  {
   "cell_type": "code",
   "execution_count": 6,
   "metadata": {},
   "outputs": [
    {
     "name": "stdout",
     "output_type": "stream",
     "text": [
      "\n",
      "Creando índice FAISS (IndexFlatL2) para dimensión 384...\n"
     ]
    }
   ],
   "source": [
    "print(f\"\\nCreando índice FAISS (IndexFlatL2) para dimensión {dimension}...\")\n",
    "index_flat_l2 = faiss.IndexFlatL2(dimension)"
   ]
  },
  {
   "cell_type": "code",
   "execution_count": 7,
   "metadata": {},
   "outputs": [
    {
     "name": "stdout",
     "output_type": "stream",
     "text": [
      "¿Índice entrenado? True\n"
     ]
    }
   ],
   "source": [
    "print(f\"¿Índice entrenado? {index_flat_l2.is_trained}\") # Debería ser True"
   ]
  },
  {
   "cell_type": "code",
   "execution_count": 8,
   "metadata": {},
   "outputs": [
    {
     "name": "stdout",
     "output_type": "stream",
     "text": [
      "Añadiendo 8 vectores al índice...\n"
     ]
    }
   ],
   "source": [
    "print(f\"Añadiendo {num_vectors} vectores al índice...\")\n",
    "index_flat_l2.add(embeddings)"
   ]
  },
  {
   "cell_type": "code",
   "execution_count": 9,
   "metadata": {},
   "outputs": [
    {
     "name": "stdout",
     "output_type": "stream",
     "text": [
      "Número total de vectores en el índice: 8\n"
     ]
    }
   ],
   "source": [
    "print(f\"Número total de vectores en el índice: {index_flat_l2.ntotal}\")"
   ]
  },
  {
   "cell_type": "code",
   "execution_count": 10,
   "metadata": {},
   "outputs": [
    {
     "name": "stdout",
     "output_type": "stream",
     "text": [
      "\n",
      "Generando embedding para la frase de consulta: 'IA y modelos de lenguaje'\n",
      "Buscando los 3 vecinos más cercanos...\n",
      "\n",
      "Resultados de la búsqueda con IndexFlatL2:\n",
      "  Vecino 1: Índice=4, Distancia L2^2=0.3986, Frase Original: 'Los modelos de lenguaje grandes son muy potentes.'\n",
      "  Vecino 2: Índice=2, Distancia L2^2=0.9251, Frase Original: 'La inteligencia artificial está transformando el mundo.'\n",
      "  Vecino 3: Índice=6, Distancia L2^2=1.1198, Frase Original: 'El sol brilla intensamente hoy.'\n"
     ]
    }
   ],
   "source": [
    "query_sentence = \"IA y modelos de lenguaje\"\n",
    "print(f\"\\nGenerando embedding para la frase de consulta: '{query_sentence}'\")\n",
    "query_embedding = embed_model.encode([query_sentence])\n",
    "query_embedding = np.array(query_embedding).astype(\"float32\")\n",
    "\n",
    "# Número de vecinos más cercanos a encontrar\n",
    "k = 3 \n",
    "print(f\"Buscando los {k} vecinos más cercanos...\")\n",
    "\n",
    "# El método search devuelve dos arrays: D (distancias) e I (índices)\n",
    "# D: array de forma (num_queries, k) con las distancias L2 al cuadrado\n",
    "# I: array de forma (num_queries, k) con los índices de los vecinos más cercanos en la base de datos original\n",
    "\n",
    "Distances_flat, Indices_flat = index_flat_l2.search(query_embedding, k)\n",
    "\n",
    "print(\"\\nResultados de la búsqueda con IndexFlatL2:\")\n",
    "for i in range(k):\n",
    "    idx = Indices_flat[0][i]\n",
    "    dist = Distances_flat[0][i]\n",
    "    print(f\"  Vecino {i+1}: Índice={idx}, Distancia L2^2={dist:.4f}, Frase Original: '{sentences[idx]}'\")"
   ]
  },
  {
   "cell_type": "code",
   "execution_count": 1,
   "metadata": {},
   "outputs": [
    {
     "name": "stdout",
     "output_type": "stream",
     "text": [
      "\n",
      "--- Explorando IndexIVFFlat ---\n"
     ]
    },
    {
     "ename": "NameError",
     "evalue": "name 'np' is not defined",
     "output_type": "error",
     "traceback": [
      "\u001b[31m---------------------------------------------------------------------------\u001b[39m",
      "\u001b[31mNameError\u001b[39m                                 Traceback (most recent call last)",
      "\u001b[36mCell\u001b[39m\u001b[36m \u001b[39m\u001b[32mIn[1]\u001b[39m\u001b[32m, line 3\u001b[39m\n\u001b[32m      1\u001b[39m \u001b[38;5;28mprint\u001b[39m(\u001b[33m\"\u001b[39m\u001b[38;5;130;01m\\n\u001b[39;00m\u001b[33m--- Explorando IndexIVFFlat ---\u001b[39m\u001b[33m\"\u001b[39m)\n\u001b[32m      2\u001b[39m \u001b[38;5;66;03m# Número de celdas (listas invertidas). Un buen valor es sqrt(num_vectors) a 4*sqrt(num_vectors)\u001b[39;00m\n\u001b[32m----> \u001b[39m\u001b[32m3\u001b[39m nlist = \u001b[38;5;28mint\u001b[39m(\u001b[43mnp\u001b[49m.sqrt(num_vectors)) \u001b[38;5;66;03m# Ejemplo: para 8 vectores, sqrt(8) ~ 2 o 3. Usaremos 2 para este pequeño ejemplo.\u001b[39;00m\n\u001b[32m      4\u001b[39m \u001b[38;5;28;01mif\u001b[39;00m nlist == \u001b[32m0\u001b[39m: nlist = \u001b[32m1\u001b[39m \u001b[38;5;66;03m# Asegurar al menos 1\u001b[39;00m\n\u001b[32m      6\u001b[39m \u001b[38;5;28mprint\u001b[39m(\u001b[33mf\u001b[39m\u001b[33m\"\u001b[39m\u001b[33mCreando cuantizador (IndexFlatL2) para IndexIVFFlat...\u001b[39m\u001b[33m\"\u001b[39m)\n",
      "\u001b[31mNameError\u001b[39m: name 'np' is not defined"
     ]
    }
   ],
   "source": [
    "print(\"\\n--- Explorando IndexIVFFlat ---\")\n",
    "# Número de celdas (listas invertidas). Un buen valor es sqrt(num_vectors) a 4*sqrt(num_vectors)\n",
    "nlist = int(np.sqrt(num_vectors)) # Ejemplo: para 8 vectores, sqrt(8) ~ 2 o 3. Usaremos 2 para este pequeño ejemplo.\n",
    "if nlist == 0: nlist = 1 # Asegurar al menos 1\n",
    "\n",
    "print(f\"Creando cuantizador (IndexFlatL2) para IndexIVFFlat...\")\n",
    "quantizer = faiss.IndexFlatL2(dimension) # El cuantizador es otro índice, usado para asignar vectores a celdas\n",
    "\n",
    "print(f\"Creando índice IndexIVFFlat con {nlist} celdas...\")\n",
    "index_ivf_flat = faiss.IndexIVFFlat(quantizer, dimension, nlist, faiss.METRIC_L2)\n",
    "# faiss.METRIC_L2 especifica la métrica de distancia (también existe faiss.METRIC_INNER_PRODUCT)\n",
    "\n",
    "# Entrenar el índice IVFFlat\n",
    "# Necesita ver una muestra de los datos (o todos los datos si son pocos) para aprender los centroides.\n",
    "print(f\"Entrenando el índice IndexIVFFlat con {num_vectors} vectores...\")\n",
    "if not index_ivf_flat.is_trained:\n",
    "    index_ivf_flat.train(embeddings)\n",
    "print(f\"¿Índice IVFFlat entrenado? {index_ivf_flat.is_trained}\")\n",
    "\n",
    "# Añadir los vectores al índice IVFFlat\n",
    "print(f\"Añadiendo {num_vectors} vectores al índice IVFFlat...\")\n",
    "index_ivf_flat.add(embeddings)\n",
    "print(f\"Número total de vectores en el índice IVFFlat: {index_ivf_flat.ntotal}\")\n",
    "\n",
    "# Realizar una búsqueda con IndexIVFFlat\n",
    "# nprobe: cuántas celdas cercanas visitar durante la búsqueda. Aumentar mejora la precisión pero reduce la velocidad.\n",
    "index_ivf_flat.nprobe = 1 # Para este ejemplo pequeño, 1 puede ser suficiente. Para datos más grandes, se ajusta.\n",
    "print(f\"Buscando los {k} vecinos más cercanos con IndexIVFFlat (nprobe={index_ivf_flat.nprobe})...\")\n",
    "\n",
    "Distances_ivf, Indices_ivf = index_ivf_flat.search(query_embedding, k)\n",
    "\n",
    "print(\"\\nResultados de la búsqueda con IndexIVFFlat:\")\n",
    "for i in range(k):\n",
    "    idx = Indices_ivf[0][i]\n",
    "    dist = Distances_ivf[0][i]\n",
    "    # A veces, si k es mayor que los elementos en las celdas visitadas, puede devolver -1 como índice\n",
    "    if idx != -1:\n",
    "        print(f\"  Vecino {i+1}: Índice={idx}, Distancia L2^2={dist:.4f}, Frase Original: '{sentences[idx]}'\")\n",
    "    else:\n",
    "        print(f\"  Vecino {i+1}: No se encontró (índice -1)\")\n",
    "\n",
    "print(\"\\nNota: Con IndexIVFFlat y pocos datos/celdas, los resultados pueden variar o ser menos precisos que IndexFlatL2.\")\n",
    "print(\"Su ventaja se ve en conjuntos de datos mucho más grandes.\")"
   ]
  }
 ],
 "metadata": {
  "kernelspec": {
   "display_name": "agents",
   "language": "python",
   "name": "python3"
  },
  "language_info": {
   "codemirror_mode": {
    "name": "ipython",
    "version": 3
   },
   "file_extension": ".py",
   "mimetype": "text/x-python",
   "name": "python",
   "nbconvert_exporter": "python",
   "pygments_lexer": "ipython3",
   "version": "3.11.11"
  }
 },
 "nbformat": 4,
 "nbformat_minor": 2
}
