{
 "cells": [
  {
   "cell_type": "code",
   "execution_count": 2,
   "metadata": {},
   "outputs": [
    {
     "name": "stdout",
     "output_type": "stream",
     "text": [
      "Requirement already satisfied: llama-index in /opt/anaconda3/envs/agents/lib/python3.11/site-packages (0.12.35)\n",
      "Requirement already satisfied: openai in /opt/anaconda3/envs/agents/lib/python3.11/site-packages (1.78.1)\n",
      "Requirement already satisfied: python-dotenv in /opt/anaconda3/envs/agents/lib/python3.11/site-packages (1.1.0)\n",
      "Requirement already satisfied: llama-index-agent-openai<0.5,>=0.4.0 in /opt/anaconda3/envs/agents/lib/python3.11/site-packages (from llama-index) (0.4.7)\n",
      "Requirement already satisfied: llama-index-cli<0.5,>=0.4.1 in /opt/anaconda3/envs/agents/lib/python3.11/site-packages (from llama-index) (0.4.1)\n",
      "Requirement already satisfied: llama-index-core<0.13,>=0.12.35 in /opt/anaconda3/envs/agents/lib/python3.11/site-packages (from llama-index) (0.12.35)\n",
      "Requirement already satisfied: llama-index-embeddings-openai<0.4,>=0.3.0 in /opt/anaconda3/envs/agents/lib/python3.11/site-packages (from llama-index) (0.3.1)\n",
      "Requirement already satisfied: llama-index-indices-managed-llama-cloud>=0.4.0 in /opt/anaconda3/envs/agents/lib/python3.11/site-packages (from llama-index) (0.6.11)\n",
      "Requirement already satisfied: llama-index-llms-openai<0.4,>=0.3.0 in /opt/anaconda3/envs/agents/lib/python3.11/site-packages (from llama-index) (0.3.38)\n",
      "Requirement already satisfied: llama-index-multi-modal-llms-openai<0.5,>=0.4.0 in /opt/anaconda3/envs/agents/lib/python3.11/site-packages (from llama-index) (0.4.3)\n",
      "Requirement already satisfied: llama-index-program-openai<0.4,>=0.3.0 in /opt/anaconda3/envs/agents/lib/python3.11/site-packages (from llama-index) (0.3.1)\n",
      "Requirement already satisfied: llama-index-question-gen-openai<0.4,>=0.3.0 in /opt/anaconda3/envs/agents/lib/python3.11/site-packages (from llama-index) (0.3.0)\n",
      "Requirement already satisfied: llama-index-readers-file<0.5,>=0.4.0 in /opt/anaconda3/envs/agents/lib/python3.11/site-packages (from llama-index) (0.4.7)\n",
      "Requirement already satisfied: llama-index-readers-llama-parse>=0.4.0 in /opt/anaconda3/envs/agents/lib/python3.11/site-packages (from llama-index) (0.4.0)\n",
      "Requirement already satisfied: nltk>3.8.1 in /opt/anaconda3/envs/agents/lib/python3.11/site-packages (from llama-index) (3.9.1)\n",
      "Requirement already satisfied: anyio<5,>=3.5.0 in /opt/anaconda3/envs/agents/lib/python3.11/site-packages (from openai) (4.9.0)\n",
      "Requirement already satisfied: distro<2,>=1.7.0 in /opt/anaconda3/envs/agents/lib/python3.11/site-packages (from openai) (1.9.0)\n",
      "Requirement already satisfied: httpx<1,>=0.23.0 in /opt/anaconda3/envs/agents/lib/python3.11/site-packages (from openai) (0.28.1)\n",
      "Requirement already satisfied: jiter<1,>=0.4.0 in /opt/anaconda3/envs/agents/lib/python3.11/site-packages (from openai) (0.9.0)\n",
      "Requirement already satisfied: pydantic<3,>=1.9.0 in /opt/anaconda3/envs/agents/lib/python3.11/site-packages (from openai) (2.11.3)\n",
      "Requirement already satisfied: sniffio in /opt/anaconda3/envs/agents/lib/python3.11/site-packages (from openai) (1.3.1)\n",
      "Requirement already satisfied: tqdm>4 in /opt/anaconda3/envs/agents/lib/python3.11/site-packages (from openai) (4.67.1)\n",
      "Requirement already satisfied: typing-extensions<5,>=4.11 in /opt/anaconda3/envs/agents/lib/python3.11/site-packages (from openai) (4.13.2)\n",
      "Requirement already satisfied: idna>=2.8 in /opt/anaconda3/envs/agents/lib/python3.11/site-packages (from anyio<5,>=3.5.0->openai) (3.10)\n",
      "Requirement already satisfied: certifi in /opt/anaconda3/envs/agents/lib/python3.11/site-packages (from httpx<1,>=0.23.0->openai) (2025.1.31)\n",
      "Requirement already satisfied: httpcore==1.* in /opt/anaconda3/envs/agents/lib/python3.11/site-packages (from httpx<1,>=0.23.0->openai) (1.0.8)\n",
      "Requirement already satisfied: h11<0.15,>=0.13 in /opt/anaconda3/envs/agents/lib/python3.11/site-packages (from httpcore==1.*->httpx<1,>=0.23.0->openai) (0.14.0)\n",
      "Requirement already satisfied: aiohttp<4,>=3.8.6 in /opt/anaconda3/envs/agents/lib/python3.11/site-packages (from llama-index-core<0.13,>=0.12.35->llama-index) (3.11.18)\n",
      "Requirement already satisfied: aiosqlite in /opt/anaconda3/envs/agents/lib/python3.11/site-packages (from llama-index-core<0.13,>=0.12.35->llama-index) (0.21.0)\n",
      "Requirement already satisfied: banks<3,>=2.0.0 in /opt/anaconda3/envs/agents/lib/python3.11/site-packages (from llama-index-core<0.13,>=0.12.35->llama-index) (2.1.2)\n",
      "Requirement already satisfied: dataclasses-json in /opt/anaconda3/envs/agents/lib/python3.11/site-packages (from llama-index-core<0.13,>=0.12.35->llama-index) (0.6.7)\n",
      "Requirement already satisfied: deprecated>=1.2.9.3 in /opt/anaconda3/envs/agents/lib/python3.11/site-packages (from llama-index-core<0.13,>=0.12.35->llama-index) (1.2.18)\n",
      "Requirement already satisfied: dirtyjson<2,>=1.0.8 in /opt/anaconda3/envs/agents/lib/python3.11/site-packages (from llama-index-core<0.13,>=0.12.35->llama-index) (1.0.8)\n",
      "Requirement already satisfied: filetype<2,>=1.2.0 in /opt/anaconda3/envs/agents/lib/python3.11/site-packages (from llama-index-core<0.13,>=0.12.35->llama-index) (1.2.0)\n",
      "Requirement already satisfied: fsspec>=2023.5.0 in /opt/anaconda3/envs/agents/lib/python3.11/site-packages (from llama-index-core<0.13,>=0.12.35->llama-index) (2025.3.2)\n",
      "Requirement already satisfied: nest-asyncio<2,>=1.5.8 in /opt/anaconda3/envs/agents/lib/python3.11/site-packages (from llama-index-core<0.13,>=0.12.35->llama-index) (1.6.0)\n",
      "Requirement already satisfied: networkx>=3.0 in /opt/anaconda3/envs/agents/lib/python3.11/site-packages (from llama-index-core<0.13,>=0.12.35->llama-index) (3.4.2)\n",
      "Requirement already satisfied: numpy in /opt/anaconda3/envs/agents/lib/python3.11/site-packages (from llama-index-core<0.13,>=0.12.35->llama-index) (2.0.1)\n",
      "Requirement already satisfied: pillow>=9.0.0 in /opt/anaconda3/envs/agents/lib/python3.11/site-packages (from llama-index-core<0.13,>=0.12.35->llama-index) (11.2.1)\n",
      "Requirement already satisfied: pyyaml>=6.0.1 in /opt/anaconda3/envs/agents/lib/python3.11/site-packages (from llama-index-core<0.13,>=0.12.35->llama-index) (6.0.2)\n",
      "Requirement already satisfied: requests>=2.31.0 in /opt/anaconda3/envs/agents/lib/python3.11/site-packages (from llama-index-core<0.13,>=0.12.35->llama-index) (2.32.3)\n",
      "Requirement already satisfied: sqlalchemy>=1.4.49 in /opt/anaconda3/envs/agents/lib/python3.11/site-packages (from sqlalchemy[asyncio]>=1.4.49->llama-index-core<0.13,>=0.12.35->llama-index) (2.0.40)\n",
      "Requirement already satisfied: tenacity!=8.4.0,<10.0.0,>=8.2.0 in /opt/anaconda3/envs/agents/lib/python3.11/site-packages (from llama-index-core<0.13,>=0.12.35->llama-index) (9.1.2)\n",
      "Requirement already satisfied: tiktoken>=0.7.0 in /opt/anaconda3/envs/agents/lib/python3.11/site-packages (from llama-index-core<0.13,>=0.12.35->llama-index) (0.9.0)\n",
      "Requirement already satisfied: typing-inspect>=0.8.0 in /opt/anaconda3/envs/agents/lib/python3.11/site-packages (from llama-index-core<0.13,>=0.12.35->llama-index) (0.9.0)\n",
      "Requirement already satisfied: wrapt in /opt/anaconda3/envs/agents/lib/python3.11/site-packages (from llama-index-core<0.13,>=0.12.35->llama-index) (1.17.2)\n",
      "Requirement already satisfied: llama-cloud<0.2.0,>=0.1.13 in /opt/anaconda3/envs/agents/lib/python3.11/site-packages (from llama-index-indices-managed-llama-cloud>=0.4.0->llama-index) (0.1.19)\n",
      "Requirement already satisfied: beautifulsoup4<5.0.0,>=4.12.3 in /opt/anaconda3/envs/agents/lib/python3.11/site-packages (from llama-index-readers-file<0.5,>=0.4.0->llama-index) (4.13.4)\n",
      "Requirement already satisfied: pandas in /opt/anaconda3/envs/agents/lib/python3.11/site-packages (from llama-index-readers-file<0.5,>=0.4.0->llama-index) (2.2.3)\n",
      "Requirement already satisfied: pypdf<6.0.0,>=5.1.0 in /opt/anaconda3/envs/agents/lib/python3.11/site-packages (from llama-index-readers-file<0.5,>=0.4.0->llama-index) (5.5.0)\n",
      "Requirement already satisfied: striprtf<0.0.27,>=0.0.26 in /opt/anaconda3/envs/agents/lib/python3.11/site-packages (from llama-index-readers-file<0.5,>=0.4.0->llama-index) (0.0.26)\n",
      "Requirement already satisfied: llama-parse>=0.5.0 in /opt/anaconda3/envs/agents/lib/python3.11/site-packages (from llama-index-readers-llama-parse>=0.4.0->llama-index) (0.6.22)\n",
      "Requirement already satisfied: click in /opt/anaconda3/envs/agents/lib/python3.11/site-packages (from nltk>3.8.1->llama-index) (8.1.8)\n",
      "Requirement already satisfied: joblib in /opt/anaconda3/envs/agents/lib/python3.11/site-packages (from nltk>3.8.1->llama-index) (1.5.0)\n",
      "Requirement already satisfied: regex>=2021.8.3 in /opt/anaconda3/envs/agents/lib/python3.11/site-packages (from nltk>3.8.1->llama-index) (2024.11.6)\n",
      "Requirement already satisfied: annotated-types>=0.6.0 in /opt/anaconda3/envs/agents/lib/python3.11/site-packages (from pydantic<3,>=1.9.0->openai) (0.7.0)\n",
      "Requirement already satisfied: pydantic-core==2.33.1 in /opt/anaconda3/envs/agents/lib/python3.11/site-packages (from pydantic<3,>=1.9.0->openai) (2.33.1)\n",
      "Requirement already satisfied: typing-inspection>=0.4.0 in /opt/anaconda3/envs/agents/lib/python3.11/site-packages (from pydantic<3,>=1.9.0->openai) (0.4.0)\n",
      "Requirement already satisfied: aiohappyeyeballs>=2.3.0 in /opt/anaconda3/envs/agents/lib/python3.11/site-packages (from aiohttp<4,>=3.8.6->llama-index-core<0.13,>=0.12.35->llama-index) (2.6.1)\n",
      "Requirement already satisfied: aiosignal>=1.1.2 in /opt/anaconda3/envs/agents/lib/python3.11/site-packages (from aiohttp<4,>=3.8.6->llama-index-core<0.13,>=0.12.35->llama-index) (1.3.2)\n",
      "Requirement already satisfied: attrs>=17.3.0 in /opt/anaconda3/envs/agents/lib/python3.11/site-packages (from aiohttp<4,>=3.8.6->llama-index-core<0.13,>=0.12.35->llama-index) (25.3.0)\n",
      "Requirement already satisfied: frozenlist>=1.1.1 in /opt/anaconda3/envs/agents/lib/python3.11/site-packages (from aiohttp<4,>=3.8.6->llama-index-core<0.13,>=0.12.35->llama-index) (1.6.0)\n",
      "Requirement already satisfied: multidict<7.0,>=4.5 in /opt/anaconda3/envs/agents/lib/python3.11/site-packages (from aiohttp<4,>=3.8.6->llama-index-core<0.13,>=0.12.35->llama-index) (6.4.3)\n",
      "Requirement already satisfied: propcache>=0.2.0 in /opt/anaconda3/envs/agents/lib/python3.11/site-packages (from aiohttp<4,>=3.8.6->llama-index-core<0.13,>=0.12.35->llama-index) (0.3.1)\n",
      "Requirement already satisfied: yarl<2.0,>=1.17.0 in /opt/anaconda3/envs/agents/lib/python3.11/site-packages (from aiohttp<4,>=3.8.6->llama-index-core<0.13,>=0.12.35->llama-index) (1.20.0)\n",
      "Requirement already satisfied: griffe in /opt/anaconda3/envs/agents/lib/python3.11/site-packages (from banks<3,>=2.0.0->llama-index-core<0.13,>=0.12.35->llama-index) (1.7.3)\n",
      "Requirement already satisfied: jinja2 in /opt/anaconda3/envs/agents/lib/python3.11/site-packages (from banks<3,>=2.0.0->llama-index-core<0.13,>=0.12.35->llama-index) (3.1.6)\n",
      "Requirement already satisfied: platformdirs in /opt/anaconda3/envs/agents/lib/python3.11/site-packages (from banks<3,>=2.0.0->llama-index-core<0.13,>=0.12.35->llama-index) (4.3.7)\n",
      "Requirement already satisfied: soupsieve>1.2 in /opt/anaconda3/envs/agents/lib/python3.11/site-packages (from beautifulsoup4<5.0.0,>=4.12.3->llama-index-readers-file<0.5,>=0.4.0->llama-index) (2.7)\n",
      "Requirement already satisfied: llama-cloud-services>=0.6.22 in /opt/anaconda3/envs/agents/lib/python3.11/site-packages (from llama-parse>=0.5.0->llama-index-readers-llama-parse>=0.4.0->llama-index) (0.6.22)\n",
      "Requirement already satisfied: charset-normalizer<4,>=2 in /opt/anaconda3/envs/agents/lib/python3.11/site-packages (from requests>=2.31.0->llama-index-core<0.13,>=0.12.35->llama-index) (3.4.1)\n",
      "Requirement already satisfied: urllib3<3,>=1.21.1 in /opt/anaconda3/envs/agents/lib/python3.11/site-packages (from requests>=2.31.0->llama-index-core<0.13,>=0.12.35->llama-index) (2.4.0)\n",
      "Requirement already satisfied: greenlet>=1 in /opt/anaconda3/envs/agents/lib/python3.11/site-packages (from sqlalchemy[asyncio]>=1.4.49->llama-index-core<0.13,>=0.12.35->llama-index) (3.2.2)\n",
      "Requirement already satisfied: mypy-extensions>=0.3.0 in /opt/anaconda3/envs/agents/lib/python3.11/site-packages (from typing-inspect>=0.8.0->llama-index-core<0.13,>=0.12.35->llama-index) (1.1.0)\n",
      "Requirement already satisfied: marshmallow<4.0.0,>=3.18.0 in /opt/anaconda3/envs/agents/lib/python3.11/site-packages (from dataclasses-json->llama-index-core<0.13,>=0.12.35->llama-index) (3.26.1)\n",
      "Requirement already satisfied: python-dateutil>=2.8.2 in /opt/anaconda3/envs/agents/lib/python3.11/site-packages (from pandas->llama-index-readers-file<0.5,>=0.4.0->llama-index) (2.9.0.post0)\n",
      "Requirement already satisfied: pytz>=2020.1 in /opt/anaconda3/envs/agents/lib/python3.11/site-packages (from pandas->llama-index-readers-file<0.5,>=0.4.0->llama-index) (2025.2)\n",
      "Requirement already satisfied: tzdata>=2022.7 in /opt/anaconda3/envs/agents/lib/python3.11/site-packages (from pandas->llama-index-readers-file<0.5,>=0.4.0->llama-index) (2025.2)\n",
      "Requirement already satisfied: packaging>=17.0 in /opt/anaconda3/envs/agents/lib/python3.11/site-packages (from marshmallow<4.0.0,>=3.18.0->dataclasses-json->llama-index-core<0.13,>=0.12.35->llama-index) (24.2)\n",
      "Requirement already satisfied: six>=1.5 in /opt/anaconda3/envs/agents/lib/python3.11/site-packages (from python-dateutil>=2.8.2->pandas->llama-index-readers-file<0.5,>=0.4.0->llama-index) (1.17.0)\n",
      "Requirement already satisfied: colorama>=0.4 in /opt/anaconda3/envs/agents/lib/python3.11/site-packages (from griffe->banks<3,>=2.0.0->llama-index-core<0.13,>=0.12.35->llama-index) (0.4.6)\n",
      "Requirement already satisfied: MarkupSafe>=2.0 in /opt/anaconda3/envs/agents/lib/python3.11/site-packages (from jinja2->banks<3,>=2.0.0->llama-index-core<0.13,>=0.12.35->llama-index) (3.0.2)\n",
      "Requirement already satisfied: llama-index-llms-langchain in /opt/anaconda3/envs/agents/lib/python3.11/site-packages (0.6.1)\n",
      "Requirement already satisfied: langchain>=0.1.7 in /opt/anaconda3/envs/agents/lib/python3.11/site-packages (from llama-index-llms-langchain) (0.3.25)\n",
      "Requirement already satisfied: llama-index-core<0.13.0,>=0.12.0 in /opt/anaconda3/envs/agents/lib/python3.11/site-packages (from llama-index-llms-langchain) (0.12.35)\n",
      "Requirement already satisfied: langchain-core<1.0.0,>=0.3.58 in /opt/anaconda3/envs/agents/lib/python3.11/site-packages (from langchain>=0.1.7->llama-index-llms-langchain) (0.3.59)\n",
      "Requirement already satisfied: langchain-text-splitters<1.0.0,>=0.3.8 in /opt/anaconda3/envs/agents/lib/python3.11/site-packages (from langchain>=0.1.7->llama-index-llms-langchain) (0.3.8)\n",
      "Requirement already satisfied: langsmith<0.4,>=0.1.17 in /opt/anaconda3/envs/agents/lib/python3.11/site-packages (from langchain>=0.1.7->llama-index-llms-langchain) (0.3.30)\n",
      "Requirement already satisfied: pydantic<3.0.0,>=2.7.4 in /opt/anaconda3/envs/agents/lib/python3.11/site-packages (from langchain>=0.1.7->llama-index-llms-langchain) (2.11.3)\n",
      "Requirement already satisfied: SQLAlchemy<3,>=1.4 in /opt/anaconda3/envs/agents/lib/python3.11/site-packages (from langchain>=0.1.7->llama-index-llms-langchain) (2.0.40)\n",
      "Requirement already satisfied: requests<3,>=2 in /opt/anaconda3/envs/agents/lib/python3.11/site-packages (from langchain>=0.1.7->llama-index-llms-langchain) (2.32.3)\n",
      "Requirement already satisfied: PyYAML>=5.3 in /opt/anaconda3/envs/agents/lib/python3.11/site-packages (from langchain>=0.1.7->llama-index-llms-langchain) (6.0.2)\n",
      "Requirement already satisfied: aiohttp<4,>=3.8.6 in /opt/anaconda3/envs/agents/lib/python3.11/site-packages (from llama-index-core<0.13.0,>=0.12.0->llama-index-llms-langchain) (3.11.18)\n",
      "Requirement already satisfied: aiosqlite in /opt/anaconda3/envs/agents/lib/python3.11/site-packages (from llama-index-core<0.13.0,>=0.12.0->llama-index-llms-langchain) (0.21.0)\n",
      "Requirement already satisfied: banks<3,>=2.0.0 in /opt/anaconda3/envs/agents/lib/python3.11/site-packages (from llama-index-core<0.13.0,>=0.12.0->llama-index-llms-langchain) (2.1.2)\n",
      "Requirement already satisfied: dataclasses-json in /opt/anaconda3/envs/agents/lib/python3.11/site-packages (from llama-index-core<0.13.0,>=0.12.0->llama-index-llms-langchain) (0.6.7)\n",
      "Requirement already satisfied: deprecated>=1.2.9.3 in /opt/anaconda3/envs/agents/lib/python3.11/site-packages (from llama-index-core<0.13.0,>=0.12.0->llama-index-llms-langchain) (1.2.18)\n",
      "Requirement already satisfied: dirtyjson<2,>=1.0.8 in /opt/anaconda3/envs/agents/lib/python3.11/site-packages (from llama-index-core<0.13.0,>=0.12.0->llama-index-llms-langchain) (1.0.8)\n",
      "Requirement already satisfied: filetype<2,>=1.2.0 in /opt/anaconda3/envs/agents/lib/python3.11/site-packages (from llama-index-core<0.13.0,>=0.12.0->llama-index-llms-langchain) (1.2.0)\n",
      "Requirement already satisfied: fsspec>=2023.5.0 in /opt/anaconda3/envs/agents/lib/python3.11/site-packages (from llama-index-core<0.13.0,>=0.12.0->llama-index-llms-langchain) (2025.3.2)\n",
      "Requirement already satisfied: httpx in /opt/anaconda3/envs/agents/lib/python3.11/site-packages (from llama-index-core<0.13.0,>=0.12.0->llama-index-llms-langchain) (0.28.1)\n",
      "Requirement already satisfied: nest-asyncio<2,>=1.5.8 in /opt/anaconda3/envs/agents/lib/python3.11/site-packages (from llama-index-core<0.13.0,>=0.12.0->llama-index-llms-langchain) (1.6.0)\n",
      "Requirement already satisfied: networkx>=3.0 in /opt/anaconda3/envs/agents/lib/python3.11/site-packages (from llama-index-core<0.13.0,>=0.12.0->llama-index-llms-langchain) (3.4.2)\n",
      "Requirement already satisfied: nltk>3.8.1 in /opt/anaconda3/envs/agents/lib/python3.11/site-packages (from llama-index-core<0.13.0,>=0.12.0->llama-index-llms-langchain) (3.9.1)\n",
      "Requirement already satisfied: numpy in /opt/anaconda3/envs/agents/lib/python3.11/site-packages (from llama-index-core<0.13.0,>=0.12.0->llama-index-llms-langchain) (2.0.1)\n",
      "Requirement already satisfied: pillow>=9.0.0 in /opt/anaconda3/envs/agents/lib/python3.11/site-packages (from llama-index-core<0.13.0,>=0.12.0->llama-index-llms-langchain) (11.2.1)\n",
      "Requirement already satisfied: tenacity!=8.4.0,<10.0.0,>=8.2.0 in /opt/anaconda3/envs/agents/lib/python3.11/site-packages (from llama-index-core<0.13.0,>=0.12.0->llama-index-llms-langchain) (9.1.2)\n",
      "Requirement already satisfied: tiktoken>=0.7.0 in /opt/anaconda3/envs/agents/lib/python3.11/site-packages (from llama-index-core<0.13.0,>=0.12.0->llama-index-llms-langchain) (0.9.0)\n",
      "Requirement already satisfied: tqdm<5,>=4.66.1 in /opt/anaconda3/envs/agents/lib/python3.11/site-packages (from llama-index-core<0.13.0,>=0.12.0->llama-index-llms-langchain) (4.67.1)\n",
      "Requirement already satisfied: typing-extensions>=4.5.0 in /opt/anaconda3/envs/agents/lib/python3.11/site-packages (from llama-index-core<0.13.0,>=0.12.0->llama-index-llms-langchain) (4.13.2)\n",
      "Requirement already satisfied: typing-inspect>=0.8.0 in /opt/anaconda3/envs/agents/lib/python3.11/site-packages (from llama-index-core<0.13.0,>=0.12.0->llama-index-llms-langchain) (0.9.0)\n",
      "Requirement already satisfied: wrapt in /opt/anaconda3/envs/agents/lib/python3.11/site-packages (from llama-index-core<0.13.0,>=0.12.0->llama-index-llms-langchain) (1.17.2)\n",
      "Requirement already satisfied: aiohappyeyeballs>=2.3.0 in /opt/anaconda3/envs/agents/lib/python3.11/site-packages (from aiohttp<4,>=3.8.6->llama-index-core<0.13.0,>=0.12.0->llama-index-llms-langchain) (2.6.1)\n",
      "Requirement already satisfied: aiosignal>=1.1.2 in /opt/anaconda3/envs/agents/lib/python3.11/site-packages (from aiohttp<4,>=3.8.6->llama-index-core<0.13.0,>=0.12.0->llama-index-llms-langchain) (1.3.2)\n",
      "Requirement already satisfied: attrs>=17.3.0 in /opt/anaconda3/envs/agents/lib/python3.11/site-packages (from aiohttp<4,>=3.8.6->llama-index-core<0.13.0,>=0.12.0->llama-index-llms-langchain) (25.3.0)\n",
      "Requirement already satisfied: frozenlist>=1.1.1 in /opt/anaconda3/envs/agents/lib/python3.11/site-packages (from aiohttp<4,>=3.8.6->llama-index-core<0.13.0,>=0.12.0->llama-index-llms-langchain) (1.6.0)\n",
      "Requirement already satisfied: multidict<7.0,>=4.5 in /opt/anaconda3/envs/agents/lib/python3.11/site-packages (from aiohttp<4,>=3.8.6->llama-index-core<0.13.0,>=0.12.0->llama-index-llms-langchain) (6.4.3)\n",
      "Requirement already satisfied: propcache>=0.2.0 in /opt/anaconda3/envs/agents/lib/python3.11/site-packages (from aiohttp<4,>=3.8.6->llama-index-core<0.13.0,>=0.12.0->llama-index-llms-langchain) (0.3.1)\n",
      "Requirement already satisfied: yarl<2.0,>=1.17.0 in /opt/anaconda3/envs/agents/lib/python3.11/site-packages (from aiohttp<4,>=3.8.6->llama-index-core<0.13.0,>=0.12.0->llama-index-llms-langchain) (1.20.0)\n",
      "Requirement already satisfied: griffe in /opt/anaconda3/envs/agents/lib/python3.11/site-packages (from banks<3,>=2.0.0->llama-index-core<0.13.0,>=0.12.0->llama-index-llms-langchain) (1.7.3)\n",
      "Requirement already satisfied: jinja2 in /opt/anaconda3/envs/agents/lib/python3.11/site-packages (from banks<3,>=2.0.0->llama-index-core<0.13.0,>=0.12.0->llama-index-llms-langchain) (3.1.6)\n",
      "Requirement already satisfied: platformdirs in /opt/anaconda3/envs/agents/lib/python3.11/site-packages (from banks<3,>=2.0.0->llama-index-core<0.13.0,>=0.12.0->llama-index-llms-langchain) (4.3.7)\n",
      "Requirement already satisfied: jsonpatch<2.0,>=1.33 in /opt/anaconda3/envs/agents/lib/python3.11/site-packages (from langchain-core<1.0.0,>=0.3.58->langchain>=0.1.7->llama-index-llms-langchain) (1.33)\n",
      "Requirement already satisfied: packaging<25,>=23.2 in /opt/anaconda3/envs/agents/lib/python3.11/site-packages (from langchain-core<1.0.0,>=0.3.58->langchain>=0.1.7->llama-index-llms-langchain) (24.2)\n",
      "Requirement already satisfied: orjson<4.0.0,>=3.9.14 in /opt/anaconda3/envs/agents/lib/python3.11/site-packages (from langsmith<0.4,>=0.1.17->langchain>=0.1.7->llama-index-llms-langchain) (3.10.16)\n",
      "Requirement already satisfied: requests-toolbelt<2.0.0,>=1.0.0 in /opt/anaconda3/envs/agents/lib/python3.11/site-packages (from langsmith<0.4,>=0.1.17->langchain>=0.1.7->llama-index-llms-langchain) (1.0.0)\n",
      "Requirement already satisfied: zstandard<0.24.0,>=0.23.0 in /opt/anaconda3/envs/agents/lib/python3.11/site-packages (from langsmith<0.4,>=0.1.17->langchain>=0.1.7->llama-index-llms-langchain) (0.23.0)\n",
      "Requirement already satisfied: anyio in /opt/anaconda3/envs/agents/lib/python3.11/site-packages (from httpx->llama-index-core<0.13.0,>=0.12.0->llama-index-llms-langchain) (4.9.0)\n",
      "Requirement already satisfied: certifi in /opt/anaconda3/envs/agents/lib/python3.11/site-packages (from httpx->llama-index-core<0.13.0,>=0.12.0->llama-index-llms-langchain) (2025.1.31)\n",
      "Requirement already satisfied: httpcore==1.* in /opt/anaconda3/envs/agents/lib/python3.11/site-packages (from httpx->llama-index-core<0.13.0,>=0.12.0->llama-index-llms-langchain) (1.0.8)\n",
      "Requirement already satisfied: idna in /opt/anaconda3/envs/agents/lib/python3.11/site-packages (from httpx->llama-index-core<0.13.0,>=0.12.0->llama-index-llms-langchain) (3.10)\n",
      "Requirement already satisfied: h11<0.15,>=0.13 in /opt/anaconda3/envs/agents/lib/python3.11/site-packages (from httpcore==1.*->httpx->llama-index-core<0.13.0,>=0.12.0->llama-index-llms-langchain) (0.14.0)\n",
      "Requirement already satisfied: click in /opt/anaconda3/envs/agents/lib/python3.11/site-packages (from nltk>3.8.1->llama-index-core<0.13.0,>=0.12.0->llama-index-llms-langchain) (8.1.8)\n",
      "Requirement already satisfied: joblib in /opt/anaconda3/envs/agents/lib/python3.11/site-packages (from nltk>3.8.1->llama-index-core<0.13.0,>=0.12.0->llama-index-llms-langchain) (1.5.0)\n",
      "Requirement already satisfied: regex>=2021.8.3 in /opt/anaconda3/envs/agents/lib/python3.11/site-packages (from nltk>3.8.1->llama-index-core<0.13.0,>=0.12.0->llama-index-llms-langchain) (2024.11.6)\n",
      "Requirement already satisfied: annotated-types>=0.6.0 in /opt/anaconda3/envs/agents/lib/python3.11/site-packages (from pydantic<3.0.0,>=2.7.4->langchain>=0.1.7->llama-index-llms-langchain) (0.7.0)\n",
      "Requirement already satisfied: pydantic-core==2.33.1 in /opt/anaconda3/envs/agents/lib/python3.11/site-packages (from pydantic<3.0.0,>=2.7.4->langchain>=0.1.7->llama-index-llms-langchain) (2.33.1)\n",
      "Requirement already satisfied: typing-inspection>=0.4.0 in /opt/anaconda3/envs/agents/lib/python3.11/site-packages (from pydantic<3.0.0,>=2.7.4->langchain>=0.1.7->llama-index-llms-langchain) (0.4.0)\n",
      "Requirement already satisfied: charset-normalizer<4,>=2 in /opt/anaconda3/envs/agents/lib/python3.11/site-packages (from requests<3,>=2->langchain>=0.1.7->llama-index-llms-langchain) (3.4.1)\n",
      "Requirement already satisfied: urllib3<3,>=1.21.1 in /opt/anaconda3/envs/agents/lib/python3.11/site-packages (from requests<3,>=2->langchain>=0.1.7->llama-index-llms-langchain) (2.4.0)\n",
      "Requirement already satisfied: greenlet>=1 in /opt/anaconda3/envs/agents/lib/python3.11/site-packages (from sqlalchemy[asyncio]>=1.4.49->llama-index-core<0.13.0,>=0.12.0->llama-index-llms-langchain) (3.2.2)\n",
      "Requirement already satisfied: mypy-extensions>=0.3.0 in /opt/anaconda3/envs/agents/lib/python3.11/site-packages (from typing-inspect>=0.8.0->llama-index-core<0.13.0,>=0.12.0->llama-index-llms-langchain) (1.1.0)\n",
      "Requirement already satisfied: marshmallow<4.0.0,>=3.18.0 in /opt/anaconda3/envs/agents/lib/python3.11/site-packages (from dataclasses-json->llama-index-core<0.13.0,>=0.12.0->llama-index-llms-langchain) (3.26.1)\n",
      "Requirement already satisfied: jsonpointer>=1.9 in /opt/anaconda3/envs/agents/lib/python3.11/site-packages (from jsonpatch<2.0,>=1.33->langchain-core<1.0.0,>=0.3.58->langchain>=0.1.7->llama-index-llms-langchain) (3.0.0)\n",
      "Requirement already satisfied: sniffio>=1.1 in /opt/anaconda3/envs/agents/lib/python3.11/site-packages (from anyio->httpx->llama-index-core<0.13.0,>=0.12.0->llama-index-llms-langchain) (1.3.1)\n",
      "Requirement already satisfied: colorama>=0.4 in /opt/anaconda3/envs/agents/lib/python3.11/site-packages (from griffe->banks<3,>=2.0.0->llama-index-core<0.13.0,>=0.12.0->llama-index-llms-langchain) (0.4.6)\n",
      "Requirement already satisfied: MarkupSafe>=2.0 in /opt/anaconda3/envs/agents/lib/python3.11/site-packages (from jinja2->banks<3,>=2.0.0->llama-index-core<0.13.0,>=0.12.0->llama-index-llms-langchain) (3.0.2)\n",
      "Requirement already satisfied: llama-index-embeddings-ollama in /opt/anaconda3/envs/agents/lib/python3.11/site-packages (0.6.0)\n",
      "Requirement already satisfied: llama-index-core<0.13.0,>=0.12.0 in /opt/anaconda3/envs/agents/lib/python3.11/site-packages (from llama-index-embeddings-ollama) (0.12.35)\n",
      "Requirement already satisfied: ollama>=0.3.1 in /opt/anaconda3/envs/agents/lib/python3.11/site-packages (from llama-index-embeddings-ollama) (0.4.8)\n",
      "Requirement already satisfied: aiohttp<4,>=3.8.6 in /opt/anaconda3/envs/agents/lib/python3.11/site-packages (from llama-index-core<0.13.0,>=0.12.0->llama-index-embeddings-ollama) (3.11.18)\n",
      "Requirement already satisfied: aiosqlite in /opt/anaconda3/envs/agents/lib/python3.11/site-packages (from llama-index-core<0.13.0,>=0.12.0->llama-index-embeddings-ollama) (0.21.0)\n",
      "Requirement already satisfied: banks<3,>=2.0.0 in /opt/anaconda3/envs/agents/lib/python3.11/site-packages (from llama-index-core<0.13.0,>=0.12.0->llama-index-embeddings-ollama) (2.1.2)\n",
      "Requirement already satisfied: dataclasses-json in /opt/anaconda3/envs/agents/lib/python3.11/site-packages (from llama-index-core<0.13.0,>=0.12.0->llama-index-embeddings-ollama) (0.6.7)\n",
      "Requirement already satisfied: deprecated>=1.2.9.3 in /opt/anaconda3/envs/agents/lib/python3.11/site-packages (from llama-index-core<0.13.0,>=0.12.0->llama-index-embeddings-ollama) (1.2.18)\n",
      "Requirement already satisfied: dirtyjson<2,>=1.0.8 in /opt/anaconda3/envs/agents/lib/python3.11/site-packages (from llama-index-core<0.13.0,>=0.12.0->llama-index-embeddings-ollama) (1.0.8)\n",
      "Requirement already satisfied: filetype<2,>=1.2.0 in /opt/anaconda3/envs/agents/lib/python3.11/site-packages (from llama-index-core<0.13.0,>=0.12.0->llama-index-embeddings-ollama) (1.2.0)\n",
      "Requirement already satisfied: fsspec>=2023.5.0 in /opt/anaconda3/envs/agents/lib/python3.11/site-packages (from llama-index-core<0.13.0,>=0.12.0->llama-index-embeddings-ollama) (2025.3.2)\n",
      "Requirement already satisfied: httpx in /opt/anaconda3/envs/agents/lib/python3.11/site-packages (from llama-index-core<0.13.0,>=0.12.0->llama-index-embeddings-ollama) (0.28.1)\n",
      "Requirement already satisfied: nest-asyncio<2,>=1.5.8 in /opt/anaconda3/envs/agents/lib/python3.11/site-packages (from llama-index-core<0.13.0,>=0.12.0->llama-index-embeddings-ollama) (1.6.0)\n",
      "Requirement already satisfied: networkx>=3.0 in /opt/anaconda3/envs/agents/lib/python3.11/site-packages (from llama-index-core<0.13.0,>=0.12.0->llama-index-embeddings-ollama) (3.4.2)\n",
      "Requirement already satisfied: nltk>3.8.1 in /opt/anaconda3/envs/agents/lib/python3.11/site-packages (from llama-index-core<0.13.0,>=0.12.0->llama-index-embeddings-ollama) (3.9.1)\n",
      "Requirement already satisfied: numpy in /opt/anaconda3/envs/agents/lib/python3.11/site-packages (from llama-index-core<0.13.0,>=0.12.0->llama-index-embeddings-ollama) (2.0.1)\n",
      "Requirement already satisfied: pillow>=9.0.0 in /opt/anaconda3/envs/agents/lib/python3.11/site-packages (from llama-index-core<0.13.0,>=0.12.0->llama-index-embeddings-ollama) (11.2.1)\n",
      "Requirement already satisfied: pydantic>=2.8.0 in /opt/anaconda3/envs/agents/lib/python3.11/site-packages (from llama-index-core<0.13.0,>=0.12.0->llama-index-embeddings-ollama) (2.11.3)\n",
      "Requirement already satisfied: pyyaml>=6.0.1 in /opt/anaconda3/envs/agents/lib/python3.11/site-packages (from llama-index-core<0.13.0,>=0.12.0->llama-index-embeddings-ollama) (6.0.2)\n",
      "Requirement already satisfied: requests>=2.31.0 in /opt/anaconda3/envs/agents/lib/python3.11/site-packages (from llama-index-core<0.13.0,>=0.12.0->llama-index-embeddings-ollama) (2.32.3)\n",
      "Requirement already satisfied: sqlalchemy>=1.4.49 in /opt/anaconda3/envs/agents/lib/python3.11/site-packages (from sqlalchemy[asyncio]>=1.4.49->llama-index-core<0.13.0,>=0.12.0->llama-index-embeddings-ollama) (2.0.40)\n",
      "Requirement already satisfied: tenacity!=8.4.0,<10.0.0,>=8.2.0 in /opt/anaconda3/envs/agents/lib/python3.11/site-packages (from llama-index-core<0.13.0,>=0.12.0->llama-index-embeddings-ollama) (9.1.2)\n",
      "Requirement already satisfied: tiktoken>=0.7.0 in /opt/anaconda3/envs/agents/lib/python3.11/site-packages (from llama-index-core<0.13.0,>=0.12.0->llama-index-embeddings-ollama) (0.9.0)\n",
      "Requirement already satisfied: tqdm<5,>=4.66.1 in /opt/anaconda3/envs/agents/lib/python3.11/site-packages (from llama-index-core<0.13.0,>=0.12.0->llama-index-embeddings-ollama) (4.67.1)\n",
      "Requirement already satisfied: typing-extensions>=4.5.0 in /opt/anaconda3/envs/agents/lib/python3.11/site-packages (from llama-index-core<0.13.0,>=0.12.0->llama-index-embeddings-ollama) (4.13.2)\n",
      "Requirement already satisfied: typing-inspect>=0.8.0 in /opt/anaconda3/envs/agents/lib/python3.11/site-packages (from llama-index-core<0.13.0,>=0.12.0->llama-index-embeddings-ollama) (0.9.0)\n",
      "Requirement already satisfied: wrapt in /opt/anaconda3/envs/agents/lib/python3.11/site-packages (from llama-index-core<0.13.0,>=0.12.0->llama-index-embeddings-ollama) (1.17.2)\n",
      "Requirement already satisfied: aiohappyeyeballs>=2.3.0 in /opt/anaconda3/envs/agents/lib/python3.11/site-packages (from aiohttp<4,>=3.8.6->llama-index-core<0.13.0,>=0.12.0->llama-index-embeddings-ollama) (2.6.1)\n",
      "Requirement already satisfied: aiosignal>=1.1.2 in /opt/anaconda3/envs/agents/lib/python3.11/site-packages (from aiohttp<4,>=3.8.6->llama-index-core<0.13.0,>=0.12.0->llama-index-embeddings-ollama) (1.3.2)\n",
      "Requirement already satisfied: attrs>=17.3.0 in /opt/anaconda3/envs/agents/lib/python3.11/site-packages (from aiohttp<4,>=3.8.6->llama-index-core<0.13.0,>=0.12.0->llama-index-embeddings-ollama) (25.3.0)\n",
      "Requirement already satisfied: frozenlist>=1.1.1 in /opt/anaconda3/envs/agents/lib/python3.11/site-packages (from aiohttp<4,>=3.8.6->llama-index-core<0.13.0,>=0.12.0->llama-index-embeddings-ollama) (1.6.0)\n",
      "Requirement already satisfied: multidict<7.0,>=4.5 in /opt/anaconda3/envs/agents/lib/python3.11/site-packages (from aiohttp<4,>=3.8.6->llama-index-core<0.13.0,>=0.12.0->llama-index-embeddings-ollama) (6.4.3)\n",
      "Requirement already satisfied: propcache>=0.2.0 in /opt/anaconda3/envs/agents/lib/python3.11/site-packages (from aiohttp<4,>=3.8.6->llama-index-core<0.13.0,>=0.12.0->llama-index-embeddings-ollama) (0.3.1)\n",
      "Requirement already satisfied: yarl<2.0,>=1.17.0 in /opt/anaconda3/envs/agents/lib/python3.11/site-packages (from aiohttp<4,>=3.8.6->llama-index-core<0.13.0,>=0.12.0->llama-index-embeddings-ollama) (1.20.0)\n",
      "Requirement already satisfied: griffe in /opt/anaconda3/envs/agents/lib/python3.11/site-packages (from banks<3,>=2.0.0->llama-index-core<0.13.0,>=0.12.0->llama-index-embeddings-ollama) (1.7.3)\n",
      "Requirement already satisfied: jinja2 in /opt/anaconda3/envs/agents/lib/python3.11/site-packages (from banks<3,>=2.0.0->llama-index-core<0.13.0,>=0.12.0->llama-index-embeddings-ollama) (3.1.6)\n",
      "Requirement already satisfied: platformdirs in /opt/anaconda3/envs/agents/lib/python3.11/site-packages (from banks<3,>=2.0.0->llama-index-core<0.13.0,>=0.12.0->llama-index-embeddings-ollama) (4.3.7)\n",
      "Requirement already satisfied: anyio in /opt/anaconda3/envs/agents/lib/python3.11/site-packages (from httpx->llama-index-core<0.13.0,>=0.12.0->llama-index-embeddings-ollama) (4.9.0)\n",
      "Requirement already satisfied: certifi in /opt/anaconda3/envs/agents/lib/python3.11/site-packages (from httpx->llama-index-core<0.13.0,>=0.12.0->llama-index-embeddings-ollama) (2025.1.31)\n",
      "Requirement already satisfied: httpcore==1.* in /opt/anaconda3/envs/agents/lib/python3.11/site-packages (from httpx->llama-index-core<0.13.0,>=0.12.0->llama-index-embeddings-ollama) (1.0.8)\n",
      "Requirement already satisfied: idna in /opt/anaconda3/envs/agents/lib/python3.11/site-packages (from httpx->llama-index-core<0.13.0,>=0.12.0->llama-index-embeddings-ollama) (3.10)\n",
      "Requirement already satisfied: h11<0.15,>=0.13 in /opt/anaconda3/envs/agents/lib/python3.11/site-packages (from httpcore==1.*->httpx->llama-index-core<0.13.0,>=0.12.0->llama-index-embeddings-ollama) (0.14.0)\n",
      "Requirement already satisfied: click in /opt/anaconda3/envs/agents/lib/python3.11/site-packages (from nltk>3.8.1->llama-index-core<0.13.0,>=0.12.0->llama-index-embeddings-ollama) (8.1.8)\n",
      "Requirement already satisfied: joblib in /opt/anaconda3/envs/agents/lib/python3.11/site-packages (from nltk>3.8.1->llama-index-core<0.13.0,>=0.12.0->llama-index-embeddings-ollama) (1.5.0)\n",
      "Requirement already satisfied: regex>=2021.8.3 in /opt/anaconda3/envs/agents/lib/python3.11/site-packages (from nltk>3.8.1->llama-index-core<0.13.0,>=0.12.0->llama-index-embeddings-ollama) (2024.11.6)\n",
      "Requirement already satisfied: annotated-types>=0.6.0 in /opt/anaconda3/envs/agents/lib/python3.11/site-packages (from pydantic>=2.8.0->llama-index-core<0.13.0,>=0.12.0->llama-index-embeddings-ollama) (0.7.0)\n",
      "Requirement already satisfied: pydantic-core==2.33.1 in /opt/anaconda3/envs/agents/lib/python3.11/site-packages (from pydantic>=2.8.0->llama-index-core<0.13.0,>=0.12.0->llama-index-embeddings-ollama) (2.33.1)\n",
      "Requirement already satisfied: typing-inspection>=0.4.0 in /opt/anaconda3/envs/agents/lib/python3.11/site-packages (from pydantic>=2.8.0->llama-index-core<0.13.0,>=0.12.0->llama-index-embeddings-ollama) (0.4.0)\n",
      "Requirement already satisfied: charset-normalizer<4,>=2 in /opt/anaconda3/envs/agents/lib/python3.11/site-packages (from requests>=2.31.0->llama-index-core<0.13.0,>=0.12.0->llama-index-embeddings-ollama) (3.4.1)\n",
      "Requirement already satisfied: urllib3<3,>=1.21.1 in /opt/anaconda3/envs/agents/lib/python3.11/site-packages (from requests>=2.31.0->llama-index-core<0.13.0,>=0.12.0->llama-index-embeddings-ollama) (2.4.0)\n",
      "Requirement already satisfied: greenlet>=1 in /opt/anaconda3/envs/agents/lib/python3.11/site-packages (from sqlalchemy[asyncio]>=1.4.49->llama-index-core<0.13.0,>=0.12.0->llama-index-embeddings-ollama) (3.2.2)\n",
      "Requirement already satisfied: mypy-extensions>=0.3.0 in /opt/anaconda3/envs/agents/lib/python3.11/site-packages (from typing-inspect>=0.8.0->llama-index-core<0.13.0,>=0.12.0->llama-index-embeddings-ollama) (1.1.0)\n",
      "Requirement already satisfied: marshmallow<4.0.0,>=3.18.0 in /opt/anaconda3/envs/agents/lib/python3.11/site-packages (from dataclasses-json->llama-index-core<0.13.0,>=0.12.0->llama-index-embeddings-ollama) (3.26.1)\n",
      "Requirement already satisfied: packaging>=17.0 in /opt/anaconda3/envs/agents/lib/python3.11/site-packages (from marshmallow<4.0.0,>=3.18.0->dataclasses-json->llama-index-core<0.13.0,>=0.12.0->llama-index-embeddings-ollama) (24.2)\n",
      "Requirement already satisfied: sniffio>=1.1 in /opt/anaconda3/envs/agents/lib/python3.11/site-packages (from anyio->httpx->llama-index-core<0.13.0,>=0.12.0->llama-index-embeddings-ollama) (1.3.1)\n",
      "Requirement already satisfied: colorama>=0.4 in /opt/anaconda3/envs/agents/lib/python3.11/site-packages (from griffe->banks<3,>=2.0.0->llama-index-core<0.13.0,>=0.12.0->llama-index-embeddings-ollama) (0.4.6)\n",
      "Requirement already satisfied: MarkupSafe>=2.0 in /opt/anaconda3/envs/agents/lib/python3.11/site-packages (from jinja2->banks<3,>=2.0.0->llama-index-core<0.13.0,>=0.12.0->llama-index-embeddings-ollama) (3.0.2)\n"
     ]
    }
   ],
   "source": [
    "!pip install llama-index openai python-dotenv \n",
    "!pip install llama-index-llms-langchain\n",
    "!pip install llama-index-embeddings-ollama\n"
   ]
  },
  {
   "cell_type": "code",
   "execution_count": 3,
   "metadata": {},
   "outputs": [],
   "source": [
    "from langchain_ollama.llms import OllamaLLM\n",
    "\n",
    "llm = OllamaLLM(model=\"llama3.2:latest\")"
   ]
  },
  {
   "cell_type": "code",
   "execution_count": 4,
   "metadata": {},
   "outputs": [
    {
     "data": {
      "text/plain": [
       "True"
      ]
     },
     "execution_count": 4,
     "metadata": {},
     "output_type": "execute_result"
    }
   ],
   "source": [
    "import os\n",
    "from dotenv import load_dotenv\n",
    "from llama_index.core import VectorStoreIndex, SimpleDirectoryReader, Settings\n",
    "\n",
    "load_dotenv()"
   ]
  },
  {
   "cell_type": "code",
   "execution_count": 5,
   "metadata": {},
   "outputs": [],
   "source": [
    "Settings.llm = llm\n",
    "from llama_index.embeddings.ollama import OllamaEmbedding\n",
    "Settings.embed_model = OllamaEmbedding(model_name=\"nomic-embed-text\")\n"
   ]
  },
  {
   "cell_type": "code",
   "execution_count": 14,
   "metadata": {},
   "outputs": [
    {
     "name": "stdout",
     "output_type": "stream",
     "text": [
      "---La historia de la inteligencia artificial (IA) es fascinante.\n",
      "Comenzó con ideas filosóficas sobre máquinas pensantes.\n",
      "Andres ANtonio Turing fue un pionero clave en este campo.\n",
      "Hoy en día, los Modelos ...\n",
      "---\n"
     ]
    }
   ],
   "source": [
    "data_dir = \"./data\"\n",
    "\n",
    "documents = SimpleDirectoryReader(data_dir).load_data()\n",
    "if not documents:\n",
    "    print(f\"No se encontraron documentos en el directorio: {data_dir}\")\n",
    "    print(\"Asegúrate de que 'mi_documento.txt' exista en la carpeta 'data'.\")\n",
    "    exit()\n",
    "\n",
    "for doc in documents:\n",
    "    print(f\"---{doc.text[:200]}...\\n---\")\n",
    "    "
   ]
  },
  {
   "cell_type": "code",
   "execution_count": 15,
   "metadata": {},
   "outputs": [
    {
     "name": "stdout",
     "output_type": "stream",
     "text": [
      "Creando el índice... Esto puede tardar un momento la primera vez.\n",
      "Índice creado exitosamente.\n",
      "<llama_index.core.indices.vector_store.base.VectorStoreIndex object at 0x107a81150>\n"
     ]
    }
   ],
   "source": [
    "print(\"Creando el índice... Esto puede tardar un momento la primera vez.\")\n",
    "try:\n",
    "    index = VectorStoreIndex.from_documents(documents)\n",
    "    print(\"Índice creado exitosamente.\")\n",
    "    print(index)\n",
    "except Exception as e:\n",
    "    \n",
    "    print(f\"Error al crear el índice: {e}\")\n",
    "    print(\"Asegúrate de que tu clave de API de OpenAI esté configurada correctamente en .env y sea válida.\")\n",
    "    exit()"
   ]
  },
  {
   "cell_type": "code",
   "execution_count": 16,
   "metadata": {},
   "outputs": [
    {
     "name": "stdout",
     "output_type": "stream",
     "text": [
      "Motor de consulta listo.\n"
     ]
    }
   ],
   "source": [
    "query_engine = index.as_query_engine()\n",
    "print(\"Motor de consulta listo.\")"
   ]
  },
  {
   "cell_type": "code",
   "execution_count": 17,
   "metadata": {},
   "outputs": [
    {
     "name": "stdout",
     "output_type": "stream",
     "text": [
      "\n",
      "Pregunta: ¿Quién fue un pionero clave en la IA?\n"
     ]
    }
   ],
   "source": [
    "pregunta = \"¿Quién fue un pionero clave en la IA?\"\n",
    "print(f\"\\nPregunta: {pregunta}\")"
   ]
  },
  {
   "cell_type": "code",
   "execution_count": 18,
   "metadata": {},
   "outputs": [
    {
     "name": "stdout",
     "output_type": "stream",
     "text": [
      "Respuesta: Andres ANtonio Turing.\n"
     ]
    }
   ],
   "source": [
    "try:\n",
    "    response = query_engine.query(pregunta)\n",
    "    print(f\"Respuesta: {response}\")\n",
    "except Exception as e:\n",
    "    print(f\"Error al realizar la consulta: {e}\")"
   ]
  },
  {
   "cell_type": "code",
   "execution_count": 19,
   "metadata": {},
   "outputs": [
    {
     "name": "stdout",
     "output_type": "stream",
     "text": [
      "\n",
      "Pregunta: ¿Para qué sirve Llama Index?\n",
      "Respuesta: Para conectar modelos de lenguaje grandes como GPT con datos personalizados.\n"
     ]
    }
   ],
   "source": [
    "pregunta_2 = \"¿Para qué sirve Llama Index?\"\n",
    "print(f\"\\nPregunta: {pregunta_2}\")\n",
    "try:\n",
    "    response_2 = query_engine.query(pregunta_2)\n",
    "    print(f\"Respuesta: {response_2}\")\n",
    "except Exception as e:\n",
    "    print(f\"Error al realizar la consulta: {e}\")"
   ]
  }
 ],
 "metadata": {
  "kernelspec": {
   "display_name": "agents",
   "language": "python",
   "name": "python3"
  },
  "language_info": {
   "codemirror_mode": {
    "name": "ipython",
    "version": 3
   },
   "file_extension": ".py",
   "mimetype": "text/x-python",
   "name": "python",
   "nbconvert_exporter": "python",
   "pygments_lexer": "ipython3",
   "version": "3.11.11"
  }
 },
 "nbformat": 4,
 "nbformat_minor": 2
}
