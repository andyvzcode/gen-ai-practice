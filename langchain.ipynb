{
 "cells": [
  {
   "cell_type": "code",
   "execution_count": 26,
   "metadata": {},
   "outputs": [],
   "source": [
    "from langchain_ollama.llms import OllamaLLM\n",
    "\n",
    "llm = OllamaLLM(model=\"llama3.2:latest\")\n",
    "respuesta = llm.invoke(\"¿Cuál es la capital de Colombia?\")\n",
    "\n"
   ]
  },
  {
   "cell_type": "code",
   "execution_count": 27,
   "metadata": {},
   "outputs": [
    {
     "name": "stdout",
     "output_type": "stream",
     "text": [
      "Plantilla de prompt creada: Sugiere un nombre creativo para una empresa que fabrica {producto}.\n"
     ]
    }
   ],
   "source": [
    "from langchain.prompts import PromptTemplate\n",
    "prompt_template_texto = \"Sugiere un nombre creativo para una empresa que fabrica {producto}.\"\n",
    "\n",
    "# Crear una instancia de PromptTemplate\n",
    "prompt = PromptTemplate(\n",
    "    input_variables=[\"producto\"],\n",
    "    template=prompt_template_texto\n",
    ")\n",
    "\n",
    "print(f\"Plantilla de prompt creada: {prompt.template}\")"
   ]
  },
  {
   "cell_type": "code",
   "execution_count": 28,
   "metadata": {},
   "outputs": [
    {
     "name": "stdout",
     "output_type": "stream",
     "text": [
      "LLMChain creada.\n"
     ]
    }
   ],
   "source": [
    "# ... (código anterior)\n",
    "\n",
    "# Crear la LLMChain\n",
    "cadena = llm | prompt\n",
    "\n",
    "print(\"LLMChain creada.\")"
   ]
  },
  {
   "cell_type": "code",
   "execution_count": 30,
   "metadata": {},
   "outputs": [
    {
     "name": "stdout",
     "output_type": "stream",
     "text": [
      "\n",
      "Para un producto: calcetines de lana coloridos\n",
      "Nombre de empresa sugerido: text='Sugiere un nombre creativo para una empresa que fabrica **Calcetines de Lana Coloridos: Una Opción Estética y Comoda**\\n\\nLos calcetines de lana coloridos son una opción popular para aquellos que buscan un accesorio cómodo y estético para su ropa. La lana es un material natural y suave que se vuelve más agradable con el tiempo, lo que hace que los calcetines sean una excelente elección para cualquier ocasión.\\n\\n**Características de los Calcetines de Lana Coloridos**\\n\\n* **Comodidad**: Los calcetines de lana son ideales para personas que buscan un accesorio cómodo y sin presión. La lana es suave y agradable al tacto, lo que hace que se sientan como si estuvieras vestido con algo.\\n* **Estética**: Los calcetines de lana coloridos son una excelente opción para aquellos que buscan agregar un toque de estilo a sus outfits. Pueden ser utilizados en combinación con ropa de día o noche, y se integran perfectamente con cualquier estilo o tendencia.\\n* **Durabilidad**: La lana es un material natural que puede durar muchos años si se cuida correctamente. Los calcetines de lana coloridos pueden ser lavados y secados para mantener su calidad y vida útil.\\n\\n**Beneficios del Lana**\\n\\n* **Alivio para la piel**: El lana es conocido por su capacidad para aliviar la piel irritada o sensibilidad.\\n* **Regulación térmica**: La lana ayuda a regular la temperatura corporal, lo que significa que te mantendrá fresco en verano y cálido en invierno.\\n* **Sostenibilidad**: La lana es un material natural y sostenible que se puede reutilizar varias veces.\\n\\n**Cómo elegir los calcetines de lana coloridos perfectos**\\n\\n* **Considera tu estilo**: Elige calcetines de lana coloridos que combinen con tu estilo personal.\\n* **Pregúntate sobre el material**: Asegúrate de que los calcetines estén hechos de lana de alta calidad.\\n* **Lee las reseñas**: Busca reseñas de otros usuarios para asegurarte de que los calcetines sean cómodos y duraderos.\\n\\n**Conclusión**\\n\\nLos calcetines de lana coloridos son una excelente opción para aquellos que buscan un accesorio cómodo y estético. Con su capacidad para aliviar la piel, regular la temperatura corporal y ser sostenible, los calcetines de lana coloridos son una excelente elección para cualquier ocasión. ¡Espero que esta información te haya sido útil!.'\n"
     ]
    }
   ],
   "source": [
    "# ... (código anterior)\n",
    "\n",
    "# Definir el producto para el cual queremos un nombre de empresa\n",
    "nombre_producto = \"calcetines de lana coloridos\"\n",
    "\n",
    "# Ejecutar la cadena con la entrada\n",
    "# La entrada se pasa como un diccionario donde las claves coinciden con las input_variables del prompt\n",
    "respuesta = cadena.invoke(nombre_producto)\n",
    "\n",
    "# Imprimir la respuesta del LLM\n",
    "print(f\"\\nPara un producto: {nombre_producto}\")\n",
    "print(f\"Nombre de empresa sugerido: {respuesta}\")"
   ]
  }
 ],
 "metadata": {
  "kernelspec": {
   "display_name": "agents",
   "language": "python",
   "name": "python3"
  },
  "language_info": {
   "codemirror_mode": {
    "name": "ipython",
    "version": 3
   },
   "file_extension": ".py",
   "mimetype": "text/x-python",
   "name": "python",
   "nbconvert_exporter": "python",
   "pygments_lexer": "ipython3",
   "version": "3.11.11"
  }
 },
 "nbformat": 4,
 "nbformat_minor": 2
}
